{
 "cells": [
  {
   "cell_type": "markdown",
   "metadata": {},
   "source": [
    "# p17b_cesm_config.ipynb\n",
    "\n",
    "## Namelist files and configuration of CESM runs to check impact of bug in p2016a_hist_reg emissions, using emissions files from p2016a_hist_reg.\n",
    "\n",
    "## History:\n",
    "- 2017-01-31: Benjamin S. Grandey (benjamin@smart.mit.edu).\n",
    "- 2017-02-06: Correcting mistake in Part C of configuration, where user_nl_cam line pointed to incorrect location.\n",
    "\n",
    "## Requirements:\n",
    "- Python modules mentioned in next cell.\n",
    "- template_user_nl_cam_p17b_F - template for user_nl_cam namelist files.\n",
    "- p2016a_hist_reg \"F\" emissions files [for simulations]."
   ]
  },
  {
   "cell_type": "code",
   "execution_count": 1,
   "metadata": {
    "collapsed": false
   },
   "outputs": [
    {
     "name": "stdout",
     "output_type": "stream",
     "text": [
      "Tue Jan 31 15:59:02 SGT 2017\r\n"
     ]
    }
   ],
   "source": [
    "import datetime\n",
    "import os\n",
    "!date"
   ]
  },
  {
   "cell_type": "code",
   "execution_count": 2,
   "metadata": {
    "collapsed": false
   },
   "outputs": [
    {
     "name": "stdout",
     "output_type": "stream",
     "text": [
      "Tue Jan 31 15:59:03 SGT 2017\r\n"
     ]
    }
   ],
   "source": [
    "# List of scenarios\n",
    "scenario_list = ['Hist_1970', 'Hist_2000', 'Zero_1970', 'Zero_2000',\n",
    "                 'NoANZ_1970', 'NoANZ_2000', 'NoAfME_1970', 'NoAfME_2000',\n",
    "                 'NoCAs_1970', 'NoCAs_2000', 'NoEAs_1970', 'NoEAs_2000',\n",
    "                 'NoEur_1970', 'NoEur_2000', 'NoNAm_1970', 'NoNAm_2000',\n",
    "                 'NoSAm_1970', 'NoSAm_2000', 'NoSAs_1970', 'NoSAs_2000',\n",
    "                 'NoSEAs_1970', 'NoSEAs_2000', 'NoShip_1970', 'NoShip_2000',\n",
    "                 'OnlyANZ_2000', 'OnlyAfME_2000', 'OnlyCAs_2000', 'OnlyEAs_2000',\n",
    "                 'OnlyEur_2000', 'OnlyNAm_2000', 'OnlySAm_2000', 'OnlySAs_2000',\n",
    "                 'OnlySEAs_2000', 'OnlyShip_2000']\n",
    "!date"
   ]
  },
  {
   "cell_type": "markdown",
   "metadata": {},
   "source": [
    "## p17b_B user_nl_cam files for prescribed-SST simulations"
   ]
  },
  {
   "cell_type": "code",
   "execution_count": 3,
   "metadata": {
    "collapsed": false
   },
   "outputs": [
    {
     "name": "stdout",
     "output_type": "stream",
     "text": [
      "Written user_nl_cam_p17b_F/user_nl_cam_p17b_F_Hist_1970\n",
      "Written user_nl_cam_p17b_F/user_nl_cam_p17b_F_Hist_2000\n",
      "Written user_nl_cam_p17b_F/user_nl_cam_p17b_F_Zero_1970\n",
      "Written user_nl_cam_p17b_F/user_nl_cam_p17b_F_Zero_2000\n",
      "Written user_nl_cam_p17b_F/user_nl_cam_p17b_F_NoANZ_1970\n",
      "Written user_nl_cam_p17b_F/user_nl_cam_p17b_F_NoANZ_2000\n",
      "Written user_nl_cam_p17b_F/user_nl_cam_p17b_F_NoAfME_1970\n",
      "Written user_nl_cam_p17b_F/user_nl_cam_p17b_F_NoAfME_2000\n",
      "Written user_nl_cam_p17b_F/user_nl_cam_p17b_F_NoCAs_1970\n",
      "Written user_nl_cam_p17b_F/user_nl_cam_p17b_F_NoCAs_2000\n",
      "Written user_nl_cam_p17b_F/user_nl_cam_p17b_F_NoEAs_1970\n",
      "Written user_nl_cam_p17b_F/user_nl_cam_p17b_F_NoEAs_2000\n",
      "Written user_nl_cam_p17b_F/user_nl_cam_p17b_F_NoEur_1970\n",
      "Written user_nl_cam_p17b_F/user_nl_cam_p17b_F_NoEur_2000\n",
      "Written user_nl_cam_p17b_F/user_nl_cam_p17b_F_NoNAm_1970\n",
      "Written user_nl_cam_p17b_F/user_nl_cam_p17b_F_NoNAm_2000\n",
      "Written user_nl_cam_p17b_F/user_nl_cam_p17b_F_NoSAm_1970\n",
      "Written user_nl_cam_p17b_F/user_nl_cam_p17b_F_NoSAm_2000\n",
      "Written user_nl_cam_p17b_F/user_nl_cam_p17b_F_NoSAs_1970\n",
      "Written user_nl_cam_p17b_F/user_nl_cam_p17b_F_NoSAs_2000\n",
      "Written user_nl_cam_p17b_F/user_nl_cam_p17b_F_NoSEAs_1970\n",
      "Written user_nl_cam_p17b_F/user_nl_cam_p17b_F_NoSEAs_2000\n",
      "Written user_nl_cam_p17b_F/user_nl_cam_p17b_F_NoShip_1970\n",
      "Written user_nl_cam_p17b_F/user_nl_cam_p17b_F_NoShip_2000\n",
      "Written user_nl_cam_p17b_F/user_nl_cam_p17b_F_OnlyANZ_2000\n",
      "Written user_nl_cam_p17b_F/user_nl_cam_p17b_F_OnlyAfME_2000\n",
      "Written user_nl_cam_p17b_F/user_nl_cam_p17b_F_OnlyCAs_2000\n",
      "Written user_nl_cam_p17b_F/user_nl_cam_p17b_F_OnlyEAs_2000\n",
      "Written user_nl_cam_p17b_F/user_nl_cam_p17b_F_OnlyEur_2000\n",
      "Written user_nl_cam_p17b_F/user_nl_cam_p17b_F_OnlyNAm_2000\n",
      "Written user_nl_cam_p17b_F/user_nl_cam_p17b_F_OnlySAm_2000\n",
      "Written user_nl_cam_p17b_F/user_nl_cam_p17b_F_OnlySAs_2000\n",
      "Written user_nl_cam_p17b_F/user_nl_cam_p17b_F_OnlySEAs_2000\n",
      "Written user_nl_cam_p17b_F/user_nl_cam_p17b_F_OnlyShip_2000\n",
      "Tue Jan 31 15:59:03 SGT 2017\r\n"
     ]
    }
   ],
   "source": [
    "# Loop over scenarios\n",
    "for scenario in scenario_list:\n",
    "    # Open template file for reading\n",
    "    in_file_name = 'template_user_nl_cam_p17b_F'\n",
    "    in_file = open(in_file_name, 'r')\n",
    "    # Open output file for writing, after deleting any previous version\n",
    "    out_file_name = 'user_nl_cam_p17b_F/user_nl_cam_p17b_F_' + scenario\n",
    "    if os.path.isfile(out_file_name):\n",
    "        os.remove(out_file_name)\n",
    "    out_file = open(out_file_name, 'w')\n",
    "    # Loop over lines in template file\n",
    "    for in_line in in_file:\n",
    "        # Edit or copy line and write to output file\n",
    "        out_line = scenario.join(in_line.split('<SCENARIO>'))\n",
    "        out_file.write(out_line)\n",
    "    # Close files\n",
    "    in_file.close()\n",
    "    out_file.close()\n",
    "    print 'Written ' + out_file_name\n",
    "!date"
   ]
  },
  {
   "cell_type": "code",
   "execution_count": 4,
   "metadata": {
    "collapsed": false
   },
   "outputs": [
    {
     "name": "stdout",
     "output_type": "stream",
     "text": [
      "a user_nl_cam_p17b_F\n",
      "a user_nl_cam_p17b_F/user_nl_cam_p17b_F_Hist_1970\n",
      "a user_nl_cam_p17b_F/user_nl_cam_p17b_F_Hist_2000\n",
      "a user_nl_cam_p17b_F/user_nl_cam_p17b_F_NoAfME_1970\n",
      "a user_nl_cam_p17b_F/user_nl_cam_p17b_F_NoAfME_2000\n",
      "a user_nl_cam_p17b_F/user_nl_cam_p17b_F_NoANZ_1970\n",
      "a user_nl_cam_p17b_F/user_nl_cam_p17b_F_NoANZ_2000\n",
      "a user_nl_cam_p17b_F/user_nl_cam_p17b_F_NoCAs_1970\n",
      "a user_nl_cam_p17b_F/user_nl_cam_p17b_F_NoCAs_2000\n",
      "a user_nl_cam_p17b_F/user_nl_cam_p17b_F_NoEAs_1970\n",
      "a user_nl_cam_p17b_F/user_nl_cam_p17b_F_NoEAs_2000\n",
      "a user_nl_cam_p17b_F/user_nl_cam_p17b_F_NoEur_1970\n",
      "a user_nl_cam_p17b_F/user_nl_cam_p17b_F_NoEur_2000\n",
      "a user_nl_cam_p17b_F/user_nl_cam_p17b_F_NoNAm_1970\n",
      "a user_nl_cam_p17b_F/user_nl_cam_p17b_F_NoNAm_2000\n",
      "a user_nl_cam_p17b_F/user_nl_cam_p17b_F_NoSAm_1970\n",
      "a user_nl_cam_p17b_F/user_nl_cam_p17b_F_NoSAm_2000\n",
      "a user_nl_cam_p17b_F/user_nl_cam_p17b_F_NoSAs_1970\n",
      "a user_nl_cam_p17b_F/user_nl_cam_p17b_F_NoSAs_2000\n",
      "a user_nl_cam_p17b_F/user_nl_cam_p17b_F_NoSEAs_1970\n",
      "a user_nl_cam_p17b_F/user_nl_cam_p17b_F_NoSEAs_2000\n",
      "a user_nl_cam_p17b_F/user_nl_cam_p17b_F_NoShip_1970\n",
      "a user_nl_cam_p17b_F/user_nl_cam_p17b_F_NoShip_2000\n",
      "a user_nl_cam_p17b_F/user_nl_cam_p17b_F_OnlyAfME_2000\n",
      "a user_nl_cam_p17b_F/user_nl_cam_p17b_F_OnlyANZ_2000\n",
      "a user_nl_cam_p17b_F/user_nl_cam_p17b_F_OnlyCAs_2000\n",
      "a user_nl_cam_p17b_F/user_nl_cam_p17b_F_OnlyEAs_2000\n",
      "a user_nl_cam_p17b_F/user_nl_cam_p17b_F_OnlyEur_2000\n",
      "a user_nl_cam_p17b_F/user_nl_cam_p17b_F_OnlyNAm_2000\n",
      "a user_nl_cam_p17b_F/user_nl_cam_p17b_F_OnlySAm_2000\n",
      "a user_nl_cam_p17b_F/user_nl_cam_p17b_F_OnlySAs_2000\n",
      "a user_nl_cam_p17b_F/user_nl_cam_p17b_F_OnlySEAs_2000\n",
      "a user_nl_cam_p17b_F/user_nl_cam_p17b_F_OnlyShip_2000\n",
      "a user_nl_cam_p17b_F/user_nl_cam_p17b_F_Zero_1970\n",
      "a user_nl_cam_p17b_F/user_nl_cam_p17b_F_Zero_2000\n",
      "Written user_nl_cam_p17b_F_2017-01-31_15-59.tar.gz\n",
      "Tue Jan 31 15:59:03 SGT 2017\n"
     ]
    }
   ],
   "source": [
    "# Create tarball\n",
    "tar_file_name = 'user_nl_cam_p17b_F_' + datetime.datetime.now().strftime('%Y-%m-%d_%H-%M') + '.tar.gz'\n",
    "if os.path.isfile(tar_file_name):\n",
    "    os.remove(tar_file_name)\n",
    "!tar --exclude='.*' -cvzf $tar_file_name 'user_nl_cam_p17b_F'\n",
    "print 'Written ' + tar_file_name\n",
    "!date"
   ]
  },
  {
   "cell_type": "markdown",
   "metadata": {},
   "source": [
    "## Configuration instructions for p17b_F prescribed-SST simulations\n",
    "\n",
    "### Part A (on local machine): on local machine\n",
    "\n",
    "Use rsync to copy user_nl_cam_p17b_F tarball to supercomputer ~/scratch/00Data4Modeling/inputdataBSG/.\n",
    "\n",
    "### Part B (on supercomputer): prepare user_nl_cam files\n",
    "\n",
    "Unpack the user_nl_cam_p17b_F tarball in the inputdataBSG directory.\n",
    "\n",
    "    cd ~/scratch/00Data4Modeling/inputdataBSG/\n",
    "    tar -xvzf $tar_filename\n",
    "    \n",
    "### Part C (on supercomputer): configure, build, and submit simulations\n",
    "\n",
    "Create environment variable containing list of scenarios. Submit in batches the scenarios of interest, e.g.:\n",
    "\n",
    "    P17B_F_SCENARIOS=\"Hist_2000 Zero_2000\"\n",
    "\n",
    "Create cases by looping over scenarios, using FC5 as the base configuration.\n",
    "\n",
    "    cd ~/beta/cesm1_2_2/scripts\n",
    "    for scenario in $P17B_F_SCENARIOS\n",
    "    do\n",
    "    echo ${scenario}\n",
    "    ./create_newcase -case ~/cesm_cases/p17b_F_${scenario} -res f19_g16 -compset FC5 -mach nsccbeta -pes_file pes/pes240.xml\n",
    "    done\n",
    "\n",
    "Loop through scenarios to configure, update user_nl_cam, build and submit.\n",
    "\n",
    "    for scenario in $P17B_F_SCENARIOS\n",
    "    do\n",
    "    echo ${scenario}\n",
    "    cd ~/cesm_cases/p17b_F_${scenario}\n",
    "    ./cesm_setup\n",
    "    rm -f user_nl_cam\n",
    "    cp ~/scratch/00Data4Modeling/inputdataBSG/user_nl_cam_p17b_F/user_nl_cam_p17b_F_${scenario} user_nl_cam\n",
    "    ./xmlchange STOP_OPTION=nyears\n",
    "    ./xmlchange STOP_N=16\n",
    "    ./xmlchange RESUBMIT=3\n",
    "    ./p17b_F_${scenario}.build\n",
    "    ./p17b_F_${scenario}.submit\n",
    "    ln -s /home/users/academy/smart/benjamin/scratch/cesm_scratch/p17b_F_${scenario}/run/ scratch_run\n",
    "    done\n",
    "    cd ..\n"
   ]
  }
 ],
 "metadata": {
  "kernelspec": {
   "display_name": "Python 2",
   "language": "python",
   "name": "python2"
  },
  "language_info": {
   "codemirror_mode": {
    "name": "ipython",
    "version": 2
   },
   "file_extension": ".py",
   "mimetype": "text/x-python",
   "name": "python",
   "nbconvert_exporter": "python",
   "pygments_lexer": "ipython2",
   "version": "2.7.12"
  }
 },
 "nbformat": 4,
 "nbformat_minor": 0
}
